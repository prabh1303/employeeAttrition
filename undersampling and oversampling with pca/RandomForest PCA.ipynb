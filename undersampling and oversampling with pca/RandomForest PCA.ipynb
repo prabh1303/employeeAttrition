{
 "cells": [
  {
   "cell_type": "markdown",
   "metadata": {
    "id": "_2SVpvK3jqdo"
   },
   "source": [
    "# Importing Modules"
   ]
  },
  {
   "cell_type": "code",
   "execution_count": 4,
   "metadata": {
    "executionInfo": {
     "elapsed": 1107,
     "status": "ok",
     "timestamp": 1637826382036,
     "user": {
      "displayName": "Aastha IIITD",
      "photoUrl": "https://lh3.googleusercontent.com/a-/AOh14GiLraMOSGhp36GfNRW9pA30-8inCgO3YzOMmuDksQ=s64",
      "userId": "17611466845080095343"
     },
     "user_tz": -330
    },
    "id": "svdasjARhQdX"
   },
   "outputs": [],
   "source": [
    "import pandas as pd\n",
    "import numpy as np\n",
    "import matplotlib.pyplot as plt\n",
    "from sklearn.model_selection import train_test_split, GridSearchCV, cross_validate\n",
    "from sklearn.preprocessing import StandardScaler, OneHotEncoder, LabelEncoder, MinMaxScaler\n",
    "from sklearn.linear_model import LogisticRegression\n",
    "from sklearn.metrics import accuracy_score,precision_score, recall_score, confusion_matrix, f1_score\n",
    "from imblearn.over_sampling import RandomOverSampler\n",
    "import warnings\n",
    "from sklearn.exceptions import FitFailedWarning\n",
    "warnings.simplefilter('ignore', FitFailedWarning)\n",
    "from sklearn.decomposition import PCA"
   ]
  },
  {
   "cell_type": "markdown",
   "metadata": {
    "id": "8xfMmoLAjyJj"
   },
   "source": [
    "# Importing Dataset"
   ]
  },
  {
   "cell_type": "code",
   "execution_count": 5,
   "metadata": {
    "executionInfo": {
     "elapsed": 8,
     "status": "ok",
     "timestamp": 1637826382038,
     "user": {
      "displayName": "Aastha IIITD",
      "photoUrl": "https://lh3.googleusercontent.com/a-/AOh14GiLraMOSGhp36GfNRW9pA30-8inCgO3YzOMmuDksQ=s64",
      "userId": "17611466845080095343"
     },
     "user_tz": -330
    },
    "id": "1oC43f6mjvpO"
   },
   "outputs": [],
   "source": [
    "df = pd.read_csv('WA_Fn-UseC_-HR-Employee-Attrition.csv')"
   ]
  },
  {
   "cell_type": "code",
   "execution_count": 6,
   "metadata": {
    "colab": {
     "base_uri": "https://localhost:8080/",
     "height": 313
    },
    "executionInfo": {
     "elapsed": 30,
     "status": "ok",
     "timestamp": 1637826382501,
     "user": {
      "displayName": "Aastha IIITD",
      "photoUrl": "https://lh3.googleusercontent.com/a-/AOh14GiLraMOSGhp36GfNRW9pA30-8inCgO3YzOMmuDksQ=s64",
      "userId": "17611466845080095343"
     },
     "user_tz": -330
    },
    "id": "Bx6Q6cb_j695",
    "outputId": "3827dfe8-c00f-414c-cdeb-b9109f0b2a26"
   },
   "outputs": [
    {
     "data": {
      "text/html": [
       "<div>\n",
       "<style scoped>\n",
       "    .dataframe tbody tr th:only-of-type {\n",
       "        vertical-align: middle;\n",
       "    }\n",
       "\n",
       "    .dataframe tbody tr th {\n",
       "        vertical-align: top;\n",
       "    }\n",
       "\n",
       "    .dataframe thead th {\n",
       "        text-align: right;\n",
       "    }\n",
       "</style>\n",
       "<table border=\"1\" class=\"dataframe\">\n",
       "  <thead>\n",
       "    <tr style=\"text-align: right;\">\n",
       "      <th></th>\n",
       "      <th>Age</th>\n",
       "      <th>Attrition</th>\n",
       "      <th>BusinessTravel</th>\n",
       "      <th>DailyRate</th>\n",
       "      <th>Department</th>\n",
       "      <th>DistanceFromHome</th>\n",
       "      <th>Education</th>\n",
       "      <th>EducationField</th>\n",
       "      <th>EmployeeCount</th>\n",
       "      <th>EmployeeNumber</th>\n",
       "      <th>...</th>\n",
       "      <th>RelationshipSatisfaction</th>\n",
       "      <th>StandardHours</th>\n",
       "      <th>StockOptionLevel</th>\n",
       "      <th>TotalWorkingYears</th>\n",
       "      <th>TrainingTimesLastYear</th>\n",
       "      <th>WorkLifeBalance</th>\n",
       "      <th>YearsAtCompany</th>\n",
       "      <th>YearsInCurrentRole</th>\n",
       "      <th>YearsSinceLastPromotion</th>\n",
       "      <th>YearsWithCurrManager</th>\n",
       "    </tr>\n",
       "  </thead>\n",
       "  <tbody>\n",
       "    <tr>\n",
       "      <th>0</th>\n",
       "      <td>41</td>\n",
       "      <td>Yes</td>\n",
       "      <td>Travel_Rarely</td>\n",
       "      <td>1102</td>\n",
       "      <td>Sales</td>\n",
       "      <td>1</td>\n",
       "      <td>2</td>\n",
       "      <td>Life Sciences</td>\n",
       "      <td>1</td>\n",
       "      <td>1</td>\n",
       "      <td>...</td>\n",
       "      <td>1</td>\n",
       "      <td>80</td>\n",
       "      <td>0</td>\n",
       "      <td>8</td>\n",
       "      <td>0</td>\n",
       "      <td>1</td>\n",
       "      <td>6</td>\n",
       "      <td>4</td>\n",
       "      <td>0</td>\n",
       "      <td>5</td>\n",
       "    </tr>\n",
       "    <tr>\n",
       "      <th>1</th>\n",
       "      <td>49</td>\n",
       "      <td>No</td>\n",
       "      <td>Travel_Frequently</td>\n",
       "      <td>279</td>\n",
       "      <td>Research &amp; Development</td>\n",
       "      <td>8</td>\n",
       "      <td>1</td>\n",
       "      <td>Life Sciences</td>\n",
       "      <td>1</td>\n",
       "      <td>2</td>\n",
       "      <td>...</td>\n",
       "      <td>4</td>\n",
       "      <td>80</td>\n",
       "      <td>1</td>\n",
       "      <td>10</td>\n",
       "      <td>3</td>\n",
       "      <td>3</td>\n",
       "      <td>10</td>\n",
       "      <td>7</td>\n",
       "      <td>1</td>\n",
       "      <td>7</td>\n",
       "    </tr>\n",
       "    <tr>\n",
       "      <th>2</th>\n",
       "      <td>37</td>\n",
       "      <td>Yes</td>\n",
       "      <td>Travel_Rarely</td>\n",
       "      <td>1373</td>\n",
       "      <td>Research &amp; Development</td>\n",
       "      <td>2</td>\n",
       "      <td>2</td>\n",
       "      <td>Other</td>\n",
       "      <td>1</td>\n",
       "      <td>4</td>\n",
       "      <td>...</td>\n",
       "      <td>2</td>\n",
       "      <td>80</td>\n",
       "      <td>0</td>\n",
       "      <td>7</td>\n",
       "      <td>3</td>\n",
       "      <td>3</td>\n",
       "      <td>0</td>\n",
       "      <td>0</td>\n",
       "      <td>0</td>\n",
       "      <td>0</td>\n",
       "    </tr>\n",
       "    <tr>\n",
       "      <th>3</th>\n",
       "      <td>33</td>\n",
       "      <td>No</td>\n",
       "      <td>Travel_Frequently</td>\n",
       "      <td>1392</td>\n",
       "      <td>Research &amp; Development</td>\n",
       "      <td>3</td>\n",
       "      <td>4</td>\n",
       "      <td>Life Sciences</td>\n",
       "      <td>1</td>\n",
       "      <td>5</td>\n",
       "      <td>...</td>\n",
       "      <td>3</td>\n",
       "      <td>80</td>\n",
       "      <td>0</td>\n",
       "      <td>8</td>\n",
       "      <td>3</td>\n",
       "      <td>3</td>\n",
       "      <td>8</td>\n",
       "      <td>7</td>\n",
       "      <td>3</td>\n",
       "      <td>0</td>\n",
       "    </tr>\n",
       "    <tr>\n",
       "      <th>4</th>\n",
       "      <td>27</td>\n",
       "      <td>No</td>\n",
       "      <td>Travel_Rarely</td>\n",
       "      <td>591</td>\n",
       "      <td>Research &amp; Development</td>\n",
       "      <td>2</td>\n",
       "      <td>1</td>\n",
       "      <td>Medical</td>\n",
       "      <td>1</td>\n",
       "      <td>7</td>\n",
       "      <td>...</td>\n",
       "      <td>4</td>\n",
       "      <td>80</td>\n",
       "      <td>1</td>\n",
       "      <td>6</td>\n",
       "      <td>3</td>\n",
       "      <td>3</td>\n",
       "      <td>2</td>\n",
       "      <td>2</td>\n",
       "      <td>2</td>\n",
       "      <td>2</td>\n",
       "    </tr>\n",
       "  </tbody>\n",
       "</table>\n",
       "<p>5 rows × 35 columns</p>\n",
       "</div>"
      ],
      "text/plain": [
       "   Age Attrition     BusinessTravel  DailyRate              Department  \\\n",
       "0   41       Yes      Travel_Rarely       1102                   Sales   \n",
       "1   49        No  Travel_Frequently        279  Research & Development   \n",
       "2   37       Yes      Travel_Rarely       1373  Research & Development   \n",
       "3   33        No  Travel_Frequently       1392  Research & Development   \n",
       "4   27        No      Travel_Rarely        591  Research & Development   \n",
       "\n",
       "   DistanceFromHome  Education EducationField  EmployeeCount  EmployeeNumber  \\\n",
       "0                 1          2  Life Sciences              1               1   \n",
       "1                 8          1  Life Sciences              1               2   \n",
       "2                 2          2          Other              1               4   \n",
       "3                 3          4  Life Sciences              1               5   \n",
       "4                 2          1        Medical              1               7   \n",
       "\n",
       "   ...  RelationshipSatisfaction StandardHours  StockOptionLevel  \\\n",
       "0  ...                         1            80                 0   \n",
       "1  ...                         4            80                 1   \n",
       "2  ...                         2            80                 0   \n",
       "3  ...                         3            80                 0   \n",
       "4  ...                         4            80                 1   \n",
       "\n",
       "   TotalWorkingYears  TrainingTimesLastYear WorkLifeBalance  YearsAtCompany  \\\n",
       "0                  8                      0               1               6   \n",
       "1                 10                      3               3              10   \n",
       "2                  7                      3               3               0   \n",
       "3                  8                      3               3               8   \n",
       "4                  6                      3               3               2   \n",
       "\n",
       "  YearsInCurrentRole  YearsSinceLastPromotion  YearsWithCurrManager  \n",
       "0                  4                        0                     5  \n",
       "1                  7                        1                     7  \n",
       "2                  0                        0                     0  \n",
       "3                  7                        3                     0  \n",
       "4                  2                        2                     2  \n",
       "\n",
       "[5 rows x 35 columns]"
      ]
     },
     "execution_count": 6,
     "metadata": {},
     "output_type": "execute_result"
    }
   ],
   "source": [
    "df.head()"
   ]
  },
  {
   "cell_type": "markdown",
   "metadata": {
    "id": "_mRm7fQ7mwvq"
   },
   "source": [
    "# No Missing Values"
   ]
  },
  {
   "cell_type": "code",
   "execution_count": 7,
   "metadata": {
    "colab": {
     "base_uri": "https://localhost:8080/"
    },
    "executionInfo": {
     "elapsed": 23,
     "status": "ok",
     "timestamp": 1637826382501,
     "user": {
      "displayName": "Aastha IIITD",
      "photoUrl": "https://lh3.googleusercontent.com/a-/AOh14GiLraMOSGhp36GfNRW9pA30-8inCgO3YzOMmuDksQ=s64",
      "userId": "17611466845080095343"
     },
     "user_tz": -330
    },
    "id": "plrHD1Koj73G",
    "outputId": "e993b198-7849-4be1-cd53-c4c83c117e61"
   },
   "outputs": [
    {
     "data": {
      "text/plain": [
       "False"
      ]
     },
     "execution_count": 7,
     "metadata": {},
     "output_type": "execute_result"
    }
   ],
   "source": [
    "df.isna().any().any()"
   ]
  },
  {
   "cell_type": "markdown",
   "metadata": {
    "id": "ga-47TMSmzmq"
   },
   "source": [
    "# Encoding Categorical Values"
   ]
  },
  {
   "cell_type": "code",
   "execution_count": 8,
   "metadata": {
    "executionInfo": {
     "elapsed": 19,
     "status": "ok",
     "timestamp": 1637826382502,
     "user": {
      "displayName": "Aastha IIITD",
      "photoUrl": "https://lh3.googleusercontent.com/a-/AOh14GiLraMOSGhp36GfNRW9pA30-8inCgO3YzOMmuDksQ=s64",
      "userId": "17611466845080095343"
     },
     "user_tz": -330
    },
    "id": "qKzH-roNkh2h"
   },
   "outputs": [],
   "source": [
    "#Columns with string values\n",
    "categorical_column = ['Attrition', 'BusinessTravel', 'Department','Gender', 'JobRole', 'MaritalStatus', 'OverTime','EducationField']\n",
    "encoder=LabelEncoder()\n",
    "df[categorical_column]=df[categorical_column].apply(encoder.fit_transform)"
   ]
  },
  {
   "cell_type": "markdown",
   "metadata": {
    "id": "6UkQJOPXn1bY"
   },
   "source": [
    "# Seperating into X and y"
   ]
  },
  {
   "cell_type": "code",
   "execution_count": 9,
   "metadata": {
    "executionInfo": {
     "elapsed": 18,
     "status": "ok",
     "timestamp": 1637826382502,
     "user": {
      "displayName": "Aastha IIITD",
      "photoUrl": "https://lh3.googleusercontent.com/a-/AOh14GiLraMOSGhp36GfNRW9pA30-8inCgO3YzOMmuDksQ=s64",
      "userId": "17611466845080095343"
     },
     "user_tz": -330
    },
    "id": "Z_F5HO95nRME"
   },
   "outputs": [],
   "source": [
    "y=df['Attrition']\n",
    "X=df.drop(['EmployeeCount','Attrition','EmployeeNumber','Over18','StandardHours'],axis=1)"
   ]
  },
  {
   "cell_type": "code",
   "execution_count": 10,
   "metadata": {
    "executionInfo": {
     "elapsed": 18,
     "status": "ok",
     "timestamp": 1637826382502,
     "user": {
      "displayName": "Aastha IIITD",
      "photoUrl": "https://lh3.googleusercontent.com/a-/AOh14GiLraMOSGhp36GfNRW9pA30-8inCgO3YzOMmuDksQ=s64",
      "userId": "17611466845080095343"
     },
     "user_tz": -330
    },
    "id": "cOJF4o6iegoK"
   },
   "outputs": [],
   "source": [
    "from imblearn.over_sampling import RandomOverSampler\n",
    "from imblearn.under_sampling import RandomUnderSampler\n",
    "\n",
    "rus = RandomUnderSampler(random_state=42,replacement=True)\n",
    "X_, Y1 = rus.fit_resample(X,y)\n",
    "X1 = pd.DataFrame(X_,columns=X.columns)\n",
    "\n",
    "ros = RandomOverSampler(random_state=42)\n",
    "X_, Y2 = ros.fit_resample(X,y)\n",
    "X2 = pd.DataFrame(X_,columns=X.columns)"
   ]
  },
  {
   "cell_type": "markdown",
   "metadata": {
    "id": "h91lKdjPfi4o"
   },
   "source": [
    "# UnderSampling"
   ]
  },
  {
   "cell_type": "code",
   "execution_count": 11,
   "metadata": {
    "executionInfo": {
     "elapsed": 18,
     "status": "ok",
     "timestamp": 1637826382503,
     "user": {
      "displayName": "Aastha IIITD",
      "photoUrl": "https://lh3.googleusercontent.com/a-/AOh14GiLraMOSGhp36GfNRW9pA30-8inCgO3YzOMmuDksQ=s64",
      "userId": "17611466845080095343"
     },
     "user_tz": -330
    },
    "id": "7OiFwmOOfnp9"
   },
   "outputs": [],
   "source": [
    "X=X1\n",
    "y=Y1"
   ]
  },
  {
   "cell_type": "markdown",
   "metadata": {
    "id": "ON7ZM52roZi3"
   },
   "source": [
    "# Spliting into Train and Test Sets"
   ]
  },
  {
   "cell_type": "code",
   "execution_count": 12,
   "metadata": {
    "executionInfo": {
     "elapsed": 19,
     "status": "ok",
     "timestamp": 1637826382504,
     "user": {
      "displayName": "Aastha IIITD",
      "photoUrl": "https://lh3.googleusercontent.com/a-/AOh14GiLraMOSGhp36GfNRW9pA30-8inCgO3YzOMmuDksQ=s64",
      "userId": "17611466845080095343"
     },
     "user_tz": -330
    },
    "id": "s4lsXDvon7LE"
   },
   "outputs": [],
   "source": [
    "X_train, X_test, y_train, y_test = train_test_split(X,y,test_size=0.3,random_state=1)"
   ]
  },
  {
   "cell_type": "markdown",
   "metadata": {
    "id": "K0JD2huXaiJ0"
   },
   "source": [
    "## PCA"
   ]
  },
  {
   "cell_type": "code",
   "execution_count": 48,
   "metadata": {
    "colab": {
     "base_uri": "https://localhost:8080/",
     "height": 405
    },
    "executionInfo": {
     "elapsed": 574,
     "status": "ok",
     "timestamp": 1637826383060,
     "user": {
      "displayName": "Aastha IIITD",
      "photoUrl": "https://lh3.googleusercontent.com/a-/AOh14GiLraMOSGhp36GfNRW9pA30-8inCgO3YzOMmuDksQ=s64",
      "userId": "17611466845080095343"
     },
     "user_tz": -330
    },
    "id": "X2LokT5njOSK",
    "outputId": "f6535a9b-9156-4831-a91c-5377a6e9b3fa"
   },
   "outputs": [
    {
     "name": "stdout",
     "output_type": "stream",
     "text": [
      "[0.72169015 0.27830985]\n",
      "Two PCs explain [ 72.16901525 100.        ] % of variance cumulatively\n"
     ]
    },
    {
     "data": {
      "image/png": "[encoded data removed]",
      "text/plain": [
       "<Figure size 432x288 with 1 Axes>"
      ]
     },
     "metadata": {
      "needs_background": "light"
     },
     "output_type": "display_data"
    }
   ],
   "source": [
    "pca = PCA(random_state=0)\n",
    "principalComponents = pca.fit_transform(X_train)\n",
    "print(pca.explained_variance_ratio_)\n",
    "print('Two PCs explain', np.cumsum(pca.explained_variance_ratio_)*100, '% of variance cumulatively')\n",
    "# scree plot\n",
    "PC_values = np.arange(pca.n_components_) + 1\n",
    "plt.plot(PC_values, pca.explained_variance_ratio_, 'ro-', linewidth=2)\n",
    "plt.xlabel('Principal Component')\n",
    "plt.ylabel('Proportion of Variance Explained')\n",
    "plt.show()"
   ]
  },
  {
   "cell_type": "code",
   "execution_count": 14,
   "metadata": {
    "colab": {
     "base_uri": "https://localhost:8080/",
     "height": 313
    },
    "executionInfo": {
     "elapsed": 13,
     "status": "ok",
     "timestamp": 1637826383060,
     "user": {
      "displayName": "Aastha IIITD",
      "photoUrl": "https://lh3.googleusercontent.com/a-/AOh14GiLraMOSGhp36GfNRW9pA30-8inCgO3YzOMmuDksQ=s64",
      "userId": "17611466845080095343"
     },
     "user_tz": -330
    },
    "id": "9VIb6GSQaxvB",
    "outputId": "325a237e-f347-4f62-e18e-7f4b0904e498"
   },
   "outputs": [
    {
     "name": "stdout",
     "output_type": "stream",
     "text": [
      "Two PCs explain [70.74068688 99.76281581] % of variance cumulatively\n"
     ]
    },
    {
     "data": {
      "image/png": "[encoded data removed]",
      "text/plain": [
       "<Figure size 432x288 with 1 Axes>"
      ]
     },
     "metadata": {
      "needs_background": "light"
     },
     "output_type": "display_data"
    }
   ],
   "source": [
    "pca = PCA(n_components=2, random_state=0)\n",
    "principalComponents = pca.fit_transform(X_train)\n",
    "# print(pca.explained_variance_ratio_)\n",
    "print('Two PCs explain', np.cumsum(pca.explained_variance_ratio_)*100, '% of variance cumulatively')\n",
    "# scree plot\n",
    "PC_values = np.arange(pca.n_components_) + 1\n",
    "plt.plot(PC_values, pca.explained_variance_ratio_, 'ro-', linewidth=2)\n",
    "plt.title('Scree Plot')\n",
    "plt.xlabel('Principal Component')\n",
    "plt.ylabel('Proportion of Variance Explained')\n",
    "plt.show()"
   ]
  },
  {
   "cell_type": "code",
   "execution_count": 15,
   "metadata": {
    "executionInfo": {
     "elapsed": 10,
     "status": "ok",
     "timestamp": 1637826383061,
     "user": {
      "displayName": "Aastha IIITD",
      "photoUrl": "https://lh3.googleusercontent.com/a-/AOh14GiLraMOSGhp36GfNRW9pA30-8inCgO3YzOMmuDksQ=s64",
      "userId": "17611466845080095343"
     },
     "user_tz": -330
    },
    "id": "gp6iarM2a8DL"
   },
   "outputs": [],
   "source": [
    "X_train = principalComponents\n",
    "X_test = pca.transform(X_test)"
   ]
  },
  {
   "cell_type": "markdown",
   "metadata": {
    "id": "VEVEMc9hrrxG"
   },
   "source": [
    "# Applying Random Forest"
   ]
  },
  {
   "cell_type": "code",
   "execution_count": 16,
   "metadata": {
    "executionInfo": {
     "elapsed": 10,
     "status": "ok",
     "timestamp": 1637826383061,
     "user": {
      "displayName": "Aastha IIITD",
      "photoUrl": "https://lh3.googleusercontent.com/a-/AOh14GiLraMOSGhp36GfNRW9pA30-8inCgO3YzOMmuDksQ=s64",
      "userId": "17611466845080095343"
     },
     "user_tz": -330
    },
    "id": "Jfv3ftPTtCyB"
   },
   "outputs": [],
   "source": [
    "def train_predict_evaluate(model,X_train,y_train,X_test):\n",
    "  model.fit(X_train,y_train)\n",
    "  y_pred = model.predict(X_test)\n",
    "  print(\"Accuracy: \",accuracy_score(y_test,y_pred))\n",
    "  print(\"Precision: \",precision_score(y_test,y_pred))\n",
    "  print(\"Recall: \",recall_score(y_test,y_pred))\n",
    "  print(\"Confusion Matrix:\\n\",confusion_matrix(y_test,y_pred))"
   ]
  },
  {
   "cell_type": "code",
   "execution_count": 17,
   "metadata": {
    "executionInfo": {
     "elapsed": 13,
     "status": "ok",
     "timestamp": 1637826383064,
     "user": {
      "displayName": "Aastha IIITD",
      "photoUrl": "https://lh3.googleusercontent.com/a-/AOh14GiLraMOSGhp36GfNRW9pA30-8inCgO3YzOMmuDksQ=s64",
      "userId": "17611466845080095343"
     },
     "user_tz": -330
    },
    "id": "yIWGMigMrxWj"
   },
   "outputs": [],
   "source": [
    "from sklearn.ensemble import RandomForestClassifier\n",
    "\n",
    "# Create a Random Forest Classifier\n",
    "# Setting random state for randomization\n",
    "rf = RandomForestClassifier(random_state=42)\n"
   ]
  },
  {
   "cell_type": "markdown",
   "metadata": {
    "id": "Fh0TNMFpUtN9"
   },
   "source": [
    "# Hyperparameter Tuning"
   ]
  },
  {
   "cell_type": "markdown",
   "metadata": {
    "id": "2d0BsT9edAOA"
   },
   "source": [
    "Randomized Search Cross Validation"
   ]
  },
  {
   "cell_type": "code",
   "execution_count": 18,
   "metadata": {
    "executionInfo": {
     "elapsed": 13,
     "status": "ok",
     "timestamp": 1637826383065,
     "user": {
      "displayName": "Aastha IIITD",
      "photoUrl": "https://lh3.googleusercontent.com/a-/AOh14GiLraMOSGhp36GfNRW9pA30-8inCgO3YzOMmuDksQ=s64",
      "userId": "17611466845080095343"
     },
     "user_tz": -330
    },
    "id": "rzj9VrBnUy4o"
   },
   "outputs": [],
   "source": [
    "from sklearn.model_selection import RandomizedSearchCV\n",
    "\n",
    "# Taking a huge range of values to get nearer to optimal parameters\n",
    "\n",
    "# Parameters to check\n",
    "n_estimators = [int(x) for x in np.linspace(start = 100, stop = 1000, num = 10)]\n",
    "max_features = ['auto', 'sqrt']\n",
    "max_depth = [int(x) for x in np.linspace(10, 150, num = 10)]\n",
    "max_depth.append(None)\n",
    "min_samples_split = [2, 5, 10]\n",
    "min_samples_leaf = [1, 2, 4]\n",
    "bootstrap = [True, False]\n",
    "\n",
    "# Creating random grid\n",
    "random_grid = {'n_estimators': n_estimators,\n",
    "               'max_features': max_features,\n",
    "               'max_depth': max_depth,\n",
    "               'min_samples_split': min_samples_split,\n",
    "               'min_samples_leaf': min_samples_leaf,\n",
    "               'bootstrap': bootstrap}\n"
   ]
  },
  {
   "cell_type": "code",
   "execution_count": 19,
   "metadata": {
    "executionInfo": {
     "elapsed": 13,
     "status": "ok",
     "timestamp": 1637826383065,
     "user": {
      "displayName": "Aastha IIITD",
      "photoUrl": "https://lh3.googleusercontent.com/a-/AOh14GiLraMOSGhp36GfNRW9pA30-8inCgO3YzOMmuDksQ=s64",
      "userId": "17611466845080095343"
     },
     "user_tz": -330
    },
    "id": "mSnUbHPuXtgF"
   },
   "outputs": [],
   "source": [
    "# Using the random grid to search for best hyperparameters\n",
    "\n",
    "# Random search of parameters, using 3 fold cross validation, \n",
    "# search across 100 different combinations, and use all available cores\n",
    "rf_random = RandomizedSearchCV(estimator = rf, param_distributions = random_grid,\n",
    "                               n_iter = 100, cv = 3, verbose=2, \n",
    "                               random_state=42, n_jobs = -1)\n"
   ]
  },
  {
   "cell_type": "code",
   "execution_count": 20,
   "metadata": {
    "colab": {
     "base_uri": "https://localhost:8080/"
    },
    "executionInfo": {
     "elapsed": 199502,
     "status": "ok",
     "timestamp": 1637826582554,
     "user": {
      "displayName": "Aastha IIITD",
      "photoUrl": "https://lh3.googleusercontent.com/a-/AOh14GiLraMOSGhp36GfNRW9pA30-8inCgO3YzOMmuDksQ=s64",
      "userId": "17611466845080095343"
     },
     "user_tz": -330
    },
    "id": "TRNdsJC-ad8z",
    "outputId": "51f44cc6-bc22-4a0e-e2f7-736764dbd5e8"
   },
   "outputs": [
    {
     "name": "stdout",
     "output_type": "stream",
     "text": [
      "Fitting 3 folds for each of 100 candidates, totalling 300 fits\n",
      "Accuracy:  0.6153846153846154\n",
      "Precision:  0.6666666666666666\n",
      "Recall:  0.5333333333333333\n",
      "Confusion Matrix:\n",
      " [[48 20]\n",
      " [35 40]]\n"
     ]
    },
    {
     "name": "stderr",
     "output_type": "stream",
     "text": [
      "C:\\Users\\prabh\\anaconda3\\lib\\site-packages\\sklearn\\ensemble\\_forest.py:427: FutureWarning: `max_features='auto'` has been deprecated in 1.1 and will be removed in 1.3. To keep the past behaviour, explicitly set `max_features='sqrt'` or remove this parameter as it is also the default value for RandomForestClassifiers and ExtraTreesClassifiers.\n",
      "  warn(\n"
     ]
    }
   ],
   "source": [
    "# Training model and printing results\n",
    "train_predict_evaluate (rf_random, X_train, y_train, X_test)"
   ]
  },
  {
   "cell_type": "code",
   "execution_count": 21,
   "metadata": {
    "colab": {
     "base_uri": "https://localhost:8080/"
    },
    "executionInfo": {
     "elapsed": 7,
     "status": "ok",
     "timestamp": 1637826582555,
     "user": {
      "displayName": "Aastha IIITD",
      "photoUrl": "https://lh3.googleusercontent.com/a-/AOh14GiLraMOSGhp36GfNRW9pA30-8inCgO3YzOMmuDksQ=s64",
      "userId": "17611466845080095343"
     },
     "user_tz": -330
    },
    "id": "Lc_XAADcb24d",
    "outputId": "d1d095cf-b9a8-46ea-d1db-afbb45ceaad2"
   },
   "outputs": [
    {
     "data": {
      "text/plain": [
       "{'n_estimators': 100,\n",
       " 'min_samples_split': 5,\n",
       " 'min_samples_leaf': 1,\n",
       " 'max_features': 'auto',\n",
       " 'max_depth': None,\n",
       " 'bootstrap': False}"
      ]
     },
     "execution_count": 21,
     "metadata": {},
     "output_type": "execute_result"
    }
   ],
   "source": [
    "# Finding the best parameters\n",
    "rf_random.best_params_"
   ]
  },
  {
   "cell_type": "markdown",
   "metadata": {
    "id": "SSk-t5FqdGT0"
   },
   "source": [
    "Grid Search Cross Validation"
   ]
  },
  {
   "cell_type": "code",
   "execution_count": 22,
   "metadata": {
    "executionInfo": {
     "elapsed": 4,
     "status": "ok",
     "timestamp": 1637826582555,
     "user": {
      "displayName": "Aastha IIITD",
      "photoUrl": "https://lh3.googleusercontent.com/a-/AOh14GiLraMOSGhp36GfNRW9pA30-8inCgO3YzOMmuDksQ=s64",
      "userId": "17611466845080095343"
     },
     "user_tz": -330
    },
    "id": "4BtUBBLPdJD4"
   },
   "outputs": [],
   "source": [
    "from sklearn.model_selection import GridSearchCV\n",
    "\n",
    "# After getting near to optimal values, using Random Search CV, \n",
    "# we now check for close values using Grid Search CV\n",
    "\n",
    "# Create the parameter grid based on the results of random search \n",
    "param_grid = {\n",
    "    'bootstrap': [False],\n",
    "    'max_depth': [100, 105, 110, 115],\n",
    "    'min_samples_leaf': [1,2,3],\n",
    "    'min_samples_split': [2,3,4],\n",
    "    'n_estimators': [250,300,350,400]\n",
    "}"
   ]
  },
  {
   "cell_type": "code",
   "execution_count": null,
   "metadata": {
    "colab": {
     "base_uri": "https://localhost:8080/"
    },
    "executionInfo": {
     "elapsed": 148437,
     "status": "ok",
     "timestamp": 1637826730988,
     "user": {
      "displayName": "Aastha IIITD",
      "photoUrl": "https://lh3.googleusercontent.com/a-/AOh14GiLraMOSGhp36GfNRW9pA30-8inCgO3YzOMmuDksQ=s64",
      "userId": "17611466845080095343"
     },
     "user_tz": -330
    },
    "id": "7m6SsaMuebkh",
    "outputId": "2c6ef174-f920-4c1d-dd2b-9b393c936d42"
   },
   "outputs": [
    {
     "name": "stdout",
     "output_type": "stream",
     "text": [
      "Fitting 3 folds for each of 144 candidates, totalling 432 fits\n"
     ]
    }
   ],
   "source": [
    "# Grid Search model\n",
    "grid_search = GridSearchCV(estimator = rf, param_grid = param_grid, \n",
    "                          cv = 3, n_jobs = -1, verbose = 2)\n",
    "\n",
    "# Results on the Grid Search model\n",
    "train_predict_evaluate (grid_search, X_train, y_train, X_test)"
   ]
  },
  {
   "cell_type": "code",
   "execution_count": null,
   "metadata": {
    "colab": {
     "base_uri": "https://localhost:8080/"
    },
    "executionInfo": {
     "elapsed": 11,
     "status": "ok",
     "timestamp": 1637826730988,
     "user": {
      "displayName": "Aastha IIITD",
      "photoUrl": "https://lh3.googleusercontent.com/a-/AOh14GiLraMOSGhp36GfNRW9pA30-8inCgO3YzOMmuDksQ=s64",
      "userId": "17611466845080095343"
     },
     "user_tz": -330
    },
    "id": "CBkAOADsfcM-",
    "outputId": "e0610353-e264-4343-b174-e462813ae5d8"
   },
   "outputs": [],
   "source": [
    "# Finding the best parameters\n",
    "grid_search.best_params_"
   ]
  },
  {
   "cell_type": "code",
   "execution_count": null,
   "metadata": {
    "colab": {
     "base_uri": "https://localhost:8080/"
    },
    "executionInfo": {
     "elapsed": 702,
     "status": "ok",
     "timestamp": 1637826731685,
     "user": {
      "displayName": "Aastha IIITD",
      "photoUrl": "https://lh3.googleusercontent.com/a-/AOh14GiLraMOSGhp36GfNRW9pA30-8inCgO3YzOMmuDksQ=s64",
      "userId": "17611466845080095343"
     },
     "user_tz": -330
    },
    "id": "2EPmPFVapnFN",
    "outputId": "e632c3bb-d2bd-47e8-81f6-f16725a9a0e1"
   },
   "outputs": [],
   "source": [
    "# Hyperparameter Tuning done\n",
    "# Best parameters found above\n",
    "# Using these parameters on our Random Forest model for most optimal results\n",
    "best_rf = RandomForestClassifier(bootstrap=False, max_depth=100, \n",
    "                                 min_samples_leaf=1,min_samples_split=2, \n",
    "                                 n_estimators=250, random_state=42)\n",
    "train_predict_evaluate (best_rf, X_train, y_train, X_test)"
   ]
  },
  {
   "cell_type": "markdown",
   "metadata": {
    "id": "bYT34VkEzXhQ"
   },
   "source": [
    "# K-Fold Cross Validation"
   ]
  },
  {
   "cell_type": "code",
   "execution_count": null,
   "metadata": {
    "executionInfo": {
     "elapsed": 3,
     "status": "ok",
     "timestamp": 1637826731686,
     "user": {
      "displayName": "Aastha IIITD",
      "photoUrl": "https://lh3.googleusercontent.com/a-/AOh14GiLraMOSGhp36GfNRW9pA30-8inCgO3YzOMmuDksQ=s64",
      "userId": "17611466845080095343"
     },
     "user_tz": -330
    },
    "id": "4NHTmFu6F5mt"
   },
   "outputs": [],
   "source": [
    "def cross_validation(model,X,y):\n",
    "  scores = cross_validate(model, X, y, cv=5,scoring=('accuracy','precision','recall','f1'))\n",
    "\n",
    "  print(\"Accuracy: \", np.mean(scores['test_accuracy']))\n",
    "  print(\"Precision: \", np.mean(scores['test_precision']))\n",
    "  print(\"Recall: \", np.mean(scores['test_recall']))\n",
    "  print(\"F1 Score: \", np.mean(scores['test_f1']))\n"
   ]
  },
  {
   "cell_type": "markdown",
   "metadata": {
    "id": "wFGVqbADoGBF"
   },
   "source": [
    "Performing K-Fold Cross Validation on our model"
   ]
  },
  {
   "cell_type": "code",
   "execution_count": null,
   "metadata": {
    "colab": {
     "base_uri": "https://localhost:8080/"
    },
    "executionInfo": {
     "elapsed": 411,
     "status": "ok",
     "timestamp": 1637826732094,
     "user": {
      "displayName": "Aastha IIITD",
      "photoUrl": "https://lh3.googleusercontent.com/a-/AOh14GiLraMOSGhp36GfNRW9pA30-8inCgO3YzOMmuDksQ=s64",
      "userId": "17611466845080095343"
     },
     "user_tz": -330
    },
    "id": "v3SrpxpDoLZp",
    "outputId": "66e07948-0eb8-4b8f-b665-30b6cb78c839"
   },
   "outputs": [],
   "source": [
    "# On model without Hyperparameter Tuning\n",
    "cross_validation(rf, X, y)"
   ]
  },
  {
   "cell_type": "code",
   "execution_count": null,
   "metadata": {
    "colab": {
     "base_uri": "https://localhost:8080/"
    },
    "executionInfo": {
     "elapsed": 3568,
     "status": "ok",
     "timestamp": 1637826735659,
     "user": {
      "displayName": "Aastha IIITD",
      "photoUrl": "https://lh3.googleusercontent.com/a-/AOh14GiLraMOSGhp36GfNRW9pA30-8inCgO3YzOMmuDksQ=s64",
      "userId": "17611466845080095343"
     },
     "user_tz": -330
    },
    "id": "tENforr5o2xG",
    "outputId": "c54493f5-aca6-429b-e6fe-d31dfcf4fd7d"
   },
   "outputs": [],
   "source": [
    "# On model with Hyperparameter Tuning\n",
    "cross_validation(best_rf, X, y)"
   ]
  },
  {
   "cell_type": "markdown",
   "metadata": {
    "id": "mq_PKBK_fKQa"
   },
   "source": [
    "# Oversampling\n"
   ]
  },
  {
   "cell_type": "code",
   "execution_count": null,
   "metadata": {
    "executionInfo": {
     "elapsed": 31,
     "status": "ok",
     "timestamp": 1637826735660,
     "user": {
      "displayName": "Aastha IIITD",
      "photoUrl": "https://lh3.googleusercontent.com/a-/AOh14GiLraMOSGhp36GfNRW9pA30-8inCgO3YzOMmuDksQ=s64",
      "userId": "17611466845080095343"
     },
     "user_tz": -330
    },
    "id": "kQRWMYt_fPYW"
   },
   "outputs": [],
   "source": [
    "X=X2\n",
    "y=Y2"
   ]
  },
  {
   "cell_type": "markdown",
   "metadata": {
    "id": "TffDk2d3iuqf"
   },
   "source": [
    "# Spliting into Train and Test Sets"
   ]
  },
  {
   "cell_type": "code",
   "execution_count": null,
   "metadata": {
    "executionInfo": {
     "elapsed": 30,
     "status": "ok",
     "timestamp": 1637826735662,
     "user": {
      "displayName": "Aastha IIITD",
      "photoUrl": "https://lh3.googleusercontent.com/a-/AOh14GiLraMOSGhp36GfNRW9pA30-8inCgO3YzOMmuDksQ=s64",
      "userId": "17611466845080095343"
     },
     "user_tz": -330
    },
    "id": "ffWo9HOhiuqg"
   },
   "outputs": [],
   "source": [
    "X_train, X_test, y_train, y_test = train_test_split(X,y,test_size=0.3,random_state=1)"
   ]
  },
  {
   "cell_type": "markdown",
   "metadata": {
    "id": "N6yERbAuiuqg"
   },
   "source": [
    "## PCA"
   ]
  },
  {
   "cell_type": "code",
   "execution_count": null,
   "metadata": {
    "colab": {
     "base_uri": "https://localhost:8080/",
     "height": 405
    },
    "executionInfo": {
     "elapsed": 30,
     "status": "ok",
     "timestamp": 1637826735662,
     "user": {
      "displayName": "Aastha IIITD",
      "photoUrl": "https://lh3.googleusercontent.com/a-/AOh14GiLraMOSGhp36GfNRW9pA30-8inCgO3YzOMmuDksQ=s64",
      "userId": "17611466845080095343"
     },
     "user_tz": -330
    },
    "id": "a7SBJiRCiuqg",
    "outputId": "2cf89c7f-fecc-4d29-f727-c3a5c9afb315"
   },
   "outputs": [],
   "source": [
    "pca = PCA(random_state=0)\n",
    "principalComponents = pca.fit_transform(X_train)\n",
    "# print(pca.explained_variance_ratio_)\n",
    "print('Two PCs explain', np.cumsum(pca.explained_variance_ratio_)*100, '% of variance cumulatively')\n",
    "# scree plot\n",
    "PC_values = np.arange(pca.n_components_) + 1\n",
    "plt.plot(PC_values, pca.explained_variance_ratio_, 'ro-', linewidth=2)\n",
    "plt.title('Scree Plot')\n",
    "plt.xlabel('Principal Component')\n",
    "plt.ylabel('Proportion of Variance Explained')\n",
    "plt.show()"
   ]
  },
  {
   "cell_type": "code",
   "execution_count": null,
   "metadata": {
    "colab": {
     "base_uri": "https://localhost:8080/",
     "height": 313
    },
    "executionInfo": {
     "elapsed": 25,
     "status": "ok",
     "timestamp": 1637826735663,
     "user": {
      "displayName": "Aastha IIITD",
      "photoUrl": "https://lh3.googleusercontent.com/a-/AOh14GiLraMOSGhp36GfNRW9pA30-8inCgO3YzOMmuDksQ=s64",
      "userId": "17611466845080095343"
     },
     "user_tz": -330
    },
    "id": "2LZpgDi2iuqg",
    "outputId": "35dda86a-a95d-4748-b84f-793f1f65ab6e"
   },
   "outputs": [],
   "source": [
    "pca = PCA(n_components=2, random_state=0)\n",
    "principalComponents = pca.fit_transform(X_train)\n",
    "# print(pca.explained_variance_ratio_)\n",
    "print('Two PCs explain', np.cumsum(pca.explained_variance_ratio_)*100, '% of variance cumulatively')\n",
    "# scree plot\n",
    "PC_values = np.arange(pca.n_components_) + 1\n",
    "plt.plot(PC_values, pca.explained_variance_ratio_, 'ro-', linewidth=2)\n",
    "plt.title('Scree Plot')\n",
    "plt.xlabel('Principal Component')\n",
    "plt.ylabel('Proportion of Variance Explained')\n",
    "plt.show()"
   ]
  },
  {
   "cell_type": "code",
   "execution_count": null,
   "metadata": {
    "executionInfo": {
     "elapsed": 23,
     "status": "ok",
     "timestamp": 1637826735664,
     "user": {
      "displayName": "Aastha IIITD",
      "photoUrl": "https://lh3.googleusercontent.com/a-/AOh14GiLraMOSGhp36GfNRW9pA30-8inCgO3YzOMmuDksQ=s64",
      "userId": "17611466845080095343"
     },
     "user_tz": -330
    },
    "id": "hawOMojCiuqg"
   },
   "outputs": [],
   "source": [
    "X_train = principalComponents\n",
    "X_test = pca.transform(X_test)"
   ]
  },
  {
   "cell_type": "markdown",
   "metadata": {
    "id": "cMV3nb7ziuqg"
   },
   "source": [
    "# Applying Random Forest"
   ]
  },
  {
   "cell_type": "code",
   "execution_count": null,
   "metadata": {
    "executionInfo": {
     "elapsed": 23,
     "status": "ok",
     "timestamp": 1637826735664,
     "user": {
      "displayName": "Aastha IIITD",
      "photoUrl": "https://lh3.googleusercontent.com/a-/AOh14GiLraMOSGhp36GfNRW9pA30-8inCgO3YzOMmuDksQ=s64",
      "userId": "17611466845080095343"
     },
     "user_tz": -330
    },
    "id": "j3_XCBamiuqh"
   },
   "outputs": [],
   "source": [
    "def train_predict_evaluate(model,X_train,y_train,X_test):\n",
    "  model.fit(X_train,y_train)\n",
    "  y_pred = model.predict(X_test)\n",
    "  print(\"Accuracy: \",accuracy_score(y_test,y_pred))\n",
    "  print(\"Precision: \",precision_score(y_test,y_pred))\n",
    "  print(\"Recall: \",recall_score(y_test,y_pred))\n",
    "  print(\"Confusion Matrix:\\n\",confusion_matrix(y_test,y_pred))"
   ]
  },
  {
   "cell_type": "code",
   "execution_count": null,
   "metadata": {
    "executionInfo": {
     "elapsed": 22,
     "status": "ok",
     "timestamp": 1637826735664,
     "user": {
      "displayName": "Aastha IIITD",
      "photoUrl": "https://lh3.googleusercontent.com/a-/AOh14GiLraMOSGhp36GfNRW9pA30-8inCgO3YzOMmuDksQ=s64",
      "userId": "17611466845080095343"
     },
     "user_tz": -330
    },
    "id": "2QgXExZCiuqh"
   },
   "outputs": [],
   "source": [
    "from sklearn.ensemble import RandomForestClassifier\n",
    "\n",
    "# Create a Random Forest Classifier\n",
    "# Setting random state for randomization\n",
    "rf = RandomForestClassifier(random_state=42)\n"
   ]
  },
  {
   "cell_type": "markdown",
   "metadata": {
    "id": "xIdeD4Apiuqh"
   },
   "source": [
    "# Hyperparameter Tuning"
   ]
  },
  {
   "cell_type": "markdown",
   "metadata": {
    "id": "j4NiFQqciuqh"
   },
   "source": [
    "Randomized Search Cross Validation"
   ]
  },
  {
   "cell_type": "code",
   "execution_count": null,
   "metadata": {
    "executionInfo": {
     "elapsed": 22,
     "status": "ok",
     "timestamp": 1637826735664,
     "user": {
      "displayName": "Aastha IIITD",
      "photoUrl": "https://lh3.googleusercontent.com/a-/AOh14GiLraMOSGhp36GfNRW9pA30-8inCgO3YzOMmuDksQ=s64",
      "userId": "17611466845080095343"
     },
     "user_tz": -330
    },
    "id": "ps5m9p1Qiuqh"
   },
   "outputs": [],
   "source": [
    "from sklearn.model_selection import RandomizedSearchCV\n",
    "\n",
    "# Taking a huge range of values to get nearer to optimal parameters\n",
    "\n",
    "# Parameters to check\n",
    "n_estimators = [int(x) for x in np.linspace(start = 100, stop = 1000, num = 10)]\n",
    "max_features = ['auto', 'sqrt']\n",
    "max_depth = [int(x) for x in np.linspace(10, 150, num = 10)]\n",
    "max_depth.append(None)\n",
    "min_samples_split = [2, 5, 10]\n",
    "min_samples_leaf = [1, 2, 4]\n",
    "bootstrap = [True, False]\n",
    "\n",
    "# Creating random grid\n",
    "random_grid = {'n_estimators': n_estimators,\n",
    "               'max_features': max_features,\n",
    "               'max_depth': max_depth,\n",
    "               'min_samples_split': min_samples_split,\n",
    "               'min_samples_leaf': min_samples_leaf,\n",
    "               'bootstrap': bootstrap}\n"
   ]
  },
  {
   "cell_type": "code",
   "execution_count": null,
   "metadata": {
    "executionInfo": {
     "elapsed": 23,
     "status": "ok",
     "timestamp": 1637826735665,
     "user": {
      "displayName": "Aastha IIITD",
      "photoUrl": "https://lh3.googleusercontent.com/a-/AOh14GiLraMOSGhp36GfNRW9pA30-8inCgO3YzOMmuDksQ=s64",
      "userId": "17611466845080095343"
     },
     "user_tz": -330
    },
    "id": "Ywi3Iyx4iuqh"
   },
   "outputs": [],
   "source": [
    "# Using the random grid to search for best hyperparameters\n",
    "\n",
    "# Random search of parameters, using 3 fold cross validation, \n",
    "# search across 100 different combinations, and use all available cores\n",
    "rf_random = RandomizedSearchCV(estimator = rf, param_distributions = random_grid,\n",
    "                               n_iter = 100, cv = 3, verbose=2, \n",
    "                               random_state=42, n_jobs = -1)\n"
   ]
  },
  {
   "cell_type": "code",
   "execution_count": null,
   "metadata": {
    "colab": {
     "base_uri": "https://localhost:8080/"
    },
    "executionInfo": {
     "elapsed": 369182,
     "status": "ok",
     "timestamp": 1637827104825,
     "user": {
      "displayName": "Aastha IIITD",
      "photoUrl": "https://lh3.googleusercontent.com/a-/AOh14GiLraMOSGhp36GfNRW9pA30-8inCgO3YzOMmuDksQ=s64",
      "userId": "17611466845080095343"
     },
     "user_tz": -330
    },
    "id": "ark-9U7fiuqh",
    "outputId": "4d230853-f191-4cb1-87f8-9c75afda8c6a"
   },
   "outputs": [],
   "source": [
    "# Training model and printing results\n",
    "train_predict_evaluate (rf_random, X_train, y_train, X_test)"
   ]
  },
  {
   "cell_type": "code",
   "execution_count": null,
   "metadata": {
    "colab": {
     "base_uri": "https://localhost:8080/"
    },
    "executionInfo": {
     "elapsed": 17,
     "status": "ok",
     "timestamp": 1637827104826,
     "user": {
      "displayName": "Aastha IIITD",
      "photoUrl": "https://lh3.googleusercontent.com/a-/AOh14GiLraMOSGhp36GfNRW9pA30-8inCgO3YzOMmuDksQ=s64",
      "userId": "17611466845080095343"
     },
     "user_tz": -330
    },
    "id": "gkYBCq6siuqi",
    "outputId": "45cc1aac-cae3-4a58-c1c3-1552ebbde1c2"
   },
   "outputs": [],
   "source": [
    "# Finding the best parameters\n",
    "rf_random.best_params_"
   ]
  },
  {
   "cell_type": "markdown",
   "metadata": {
    "id": "U4OQ77moiuqi"
   },
   "source": [
    "Grid Search Cross Validation"
   ]
  },
  {
   "cell_type": "code",
   "execution_count": null,
   "metadata": {
    "executionInfo": {
     "elapsed": 10,
     "status": "ok",
     "timestamp": 1637827104826,
     "user": {
      "displayName": "Aastha IIITD",
      "photoUrl": "https://lh3.googleusercontent.com/a-/AOh14GiLraMOSGhp36GfNRW9pA30-8inCgO3YzOMmuDksQ=s64",
      "userId": "17611466845080095343"
     },
     "user_tz": -330
    },
    "id": "3sSRWi-ziuqi"
   },
   "outputs": [],
   "source": [
    "from sklearn.model_selection import GridSearchCV\n",
    "\n",
    "# After getting near to optimal values, using Random Search CV, \n",
    "# we now check for close values using Grid Search CV\n",
    "\n",
    "# Create the parameter grid based on the results of random search \n",
    "param_grid = {\n",
    "    'bootstrap': [False],\n",
    "    'max_depth': [100, 105, 110, 115],\n",
    "    'min_samples_leaf': [1,2,3],\n",
    "    'min_samples_split': [2,3,4],\n",
    "    'n_estimators': [250,300,350,400]\n",
    "}"
   ]
  },
  {
   "cell_type": "code",
   "execution_count": null,
   "metadata": {
    "colab": {
     "base_uri": "https://localhost:8080/"
    },
    "executionInfo": {
     "elapsed": 311563,
     "status": "ok",
     "timestamp": 1637827416380,
     "user": {
      "displayName": "Aastha IIITD",
      "photoUrl": "https://lh3.googleusercontent.com/a-/AOh14GiLraMOSGhp36GfNRW9pA30-8inCgO3YzOMmuDksQ=s64",
      "userId": "17611466845080095343"
     },
     "user_tz": -330
    },
    "id": "wNiEnVtwiuqi",
    "outputId": "fd032d00-5e44-4eaa-eda6-fc4745185d70"
   },
   "outputs": [],
   "source": [
    "# Grid Search model\n",
    "grid_search = GridSearchCV(estimator = rf, param_grid = param_grid, \n",
    "                          cv = 3, n_jobs = -1, verbose = 2)\n",
    "\n",
    "# Results on the Grid Search model\n",
    "train_predict_evaluate (grid_search, X_train, y_train, X_test)"
   ]
  },
  {
   "cell_type": "code",
   "execution_count": null,
   "metadata": {
    "colab": {
     "base_uri": "https://localhost:8080/"
    },
    "executionInfo": {
     "elapsed": 6,
     "status": "ok",
     "timestamp": 1637827416380,
     "user": {
      "displayName": "Aastha IIITD",
      "photoUrl": "https://lh3.googleusercontent.com/a-/AOh14GiLraMOSGhp36GfNRW9pA30-8inCgO3YzOMmuDksQ=s64",
      "userId": "17611466845080095343"
     },
     "user_tz": -330
    },
    "id": "iy1t_PWniuqi",
    "outputId": "77a731fd-d5f1-4524-b1b5-decda01d2761"
   },
   "outputs": [],
   "source": [
    "# Finding the best parameters\n",
    "grid_search.best_params_"
   ]
  },
  {
   "cell_type": "code",
   "execution_count": null,
   "metadata": {
    "colab": {
     "base_uri": "https://localhost:8080/"
    },
    "executionInfo": {
     "elapsed": 662,
     "status": "ok",
     "timestamp": 1637827417039,
     "user": {
      "displayName": "Aastha IIITD",
      "photoUrl": "https://lh3.googleusercontent.com/a-/AOh14GiLraMOSGhp36GfNRW9pA30-8inCgO3YzOMmuDksQ=s64",
      "userId": "17611466845080095343"
     },
     "user_tz": -330
    },
    "id": "2cdouizRiuqj",
    "outputId": "7b20f658-2628-49d7-d52c-ed45f74bf2bf"
   },
   "outputs": [],
   "source": [
    "# Hyperparameter Tuning done\n",
    "# Best parameters found above\n",
    "# Using these parameters on our Random Forest model for most optimal results\n",
    "best_rf = RandomForestClassifier(bootstrap=False, max_depth=100, \n",
    "                                 min_samples_leaf=1,min_samples_split=2, \n",
    "                                 n_estimators=250, random_state=42)\n",
    "train_predict_evaluate (best_rf, X_train, y_train, X_test)"
   ]
  },
  {
   "cell_type": "markdown",
   "metadata": {
    "id": "J98S_qE-iuqj"
   },
   "source": [
    "# K-Fold Cross Validation"
   ]
  },
  {
   "cell_type": "code",
   "execution_count": null,
   "metadata": {
    "executionInfo": {
     "elapsed": 3,
     "status": "ok",
     "timestamp": 1637827417040,
     "user": {
      "displayName": "Aastha IIITD",
      "photoUrl": "https://lh3.googleusercontent.com/a-/AOh14GiLraMOSGhp36GfNRW9pA30-8inCgO3YzOMmuDksQ=s64",
      "userId": "17611466845080095343"
     },
     "user_tz": -330
    },
    "id": "yop4-_Hmiuqj"
   },
   "outputs": [],
   "source": [
    "def cross_validation(model,X,y):\n",
    "  scores = cross_validate(model, X, y, cv=5,scoring=('accuracy','precision','recall','f1'))\n",
    "\n",
    "  print(\"Accuracy: \", np.mean(scores['test_accuracy']))\n",
    "  print(\"Precision: \", np.mean(scores['test_precision']))\n",
    "  print(\"Recall: \", np.mean(scores['test_recall']))\n",
    "  print(\"F1 Score: \", np.mean(scores['test_f1']))\n"
   ]
  },
  {
   "cell_type": "markdown",
   "metadata": {
    "id": "qzRMun41iuqj"
   },
   "source": [
    "Performing K-Fold Cross Validation on our model"
   ]
  },
  {
   "cell_type": "code",
   "execution_count": null,
   "metadata": {
    "colab": {
     "base_uri": "https://localhost:8080/"
    },
    "executionInfo": {
     "elapsed": 1978,
     "status": "ok",
     "timestamp": 1637827419016,
     "user": {
      "displayName": "Aastha IIITD",
      "photoUrl": "https://lh3.googleusercontent.com/a-/AOh14GiLraMOSGhp36GfNRW9pA30-8inCgO3YzOMmuDksQ=s64",
      "userId": "17611466845080095343"
     },
     "user_tz": -330
    },
    "id": "jJRoVZvdiuqj",
    "outputId": "745300f0-bf67-4299-e4fd-9dbf9fe0a8ff"
   },
   "outputs": [],
   "source": [
    "# On model without Hyperparameter Tuning\n",
    "cross_validation(rf, X, y)"
   ]
  },
  {
   "cell_type": "code",
   "execution_count": null,
   "metadata": {
    "colab": {
     "base_uri": "https://localhost:8080/"
    },
    "executionInfo": {
     "elapsed": 5526,
     "status": "ok",
     "timestamp": 1637827424541,
     "user": {
      "displayName": "Aastha IIITD",
      "photoUrl": "https://lh3.googleusercontent.com/a-/AOh14GiLraMOSGhp36GfNRW9pA30-8inCgO3YzOMmuDksQ=s64",
      "userId": "17611466845080095343"
     },
     "user_tz": -330
    },
    "id": "yb-2wYOqiuqj",
    "outputId": "3b723638-7f5e-4ddc-ec8d-3582cbd6fea1"
   },
   "outputs": [],
   "source": [
    "# On model with Hyperparameter Tuning\n",
    "cross_validation(best_rf, X, y)"
   ]
  }
 ],
 "metadata": {
  "colab": {
   "collapsed_sections": [],
   "name": "Final RandomForest With PCA.ipynb",
   "provenance": [
    {
     "file_id": "1FEXVAFcG8WyOTRlu_GmexG4IGkOgYVkM",
     "timestamp": 1636893572477
    },
    {
     "file_id": "1JTiuxOhOaqRlfVCQ3pMHkUSUuBoXswxN",
     "timestamp": 1636389411853
    }
   ]
  },
  "kernelspec": {
   "display_name": "Python 3 (ipykernel)",
   "language": "python",
   "name": "python3"
  },
  "language_info": {
   "codemirror_mode": {
    "name": "ipython",
    "version": 3
   },
   "file_extension": ".py",
   "mimetype": "text/x-python",
   "name": "python",
   "nbconvert_exporter": "python",
   "pygments_lexer": "ipython3",
   "version": "3.9.12"
  }
 },
 "nbformat": 4,
 "nbformat_minor": 1
}
